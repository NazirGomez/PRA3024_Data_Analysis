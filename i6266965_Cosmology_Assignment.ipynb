{
  "cells": [
    {
      "cell_type": "markdown",
      "metadata": {
        "id": "TkdruF2bYl5j"
      },
      "source": [
        "# <font color='deepskyblue'>Cosmology MCMC notebook </font>"
      ]
    },
    {
      "cell_type": "markdown",
      "metadata": {
        "id": "t0SazaVif4pl"
      },
      "source": [
        "## <font color='deepskyblue'>Preliminaries</font>"
      ]
    },
    {
      "cell_type": "code",
      "execution_count": 3,
      "metadata": {
        "colab": {
          "base_uri": "https://localhost:8080/"
        },
        "id": "y6hcXmMbhbMA",
        "outputId": "f9463444-08d7-4c75-a3d5-a96151b672e0",
        "scrolled": true
      },
      "outputs": [
        {
          "output_type": "stream",
          "name": "stdout",
          "text": [
            "Looking in indexes: https://pypi.org/simple, https://us-python.pkg.dev/colab-wheels/public/simple/\n",
            "Requirement already satisfied: getdist in /usr/local/lib/python3.9/dist-packages (1.4.3)\n",
            "Requirement already satisfied: numpy>=1.17.0 in /usr/local/lib/python3.9/dist-packages (from getdist) (1.22.4)\n",
            "Requirement already satisfied: PyYAML>=5.1 in /usr/local/lib/python3.9/dist-packages (from getdist) (6.0)\n",
            "Requirement already satisfied: packaging in /usr/local/lib/python3.9/dist-packages (from getdist) (23.0)\n",
            "Requirement already satisfied: scipy>=1.5.0 in /usr/local/lib/python3.9/dist-packages (from getdist) (1.10.1)\n",
            "Requirement already satisfied: matplotlib!=3.5.0,>=2.2.0 in /usr/local/lib/python3.9/dist-packages (from getdist) (3.7.1)\n",
            "Requirement already satisfied: python-dateutil>=2.7 in /usr/local/lib/python3.9/dist-packages (from matplotlib!=3.5.0,>=2.2.0->getdist) (2.8.2)\n",
            "Requirement already satisfied: pyparsing>=2.3.1 in /usr/local/lib/python3.9/dist-packages (from matplotlib!=3.5.0,>=2.2.0->getdist) (3.0.9)\n",
            "Requirement already satisfied: contourpy>=1.0.1 in /usr/local/lib/python3.9/dist-packages (from matplotlib!=3.5.0,>=2.2.0->getdist) (1.0.7)\n",
            "Requirement already satisfied: fonttools>=4.22.0 in /usr/local/lib/python3.9/dist-packages (from matplotlib!=3.5.0,>=2.2.0->getdist) (4.39.3)\n",
            "Requirement already satisfied: importlib-resources>=3.2.0 in /usr/local/lib/python3.9/dist-packages (from matplotlib!=3.5.0,>=2.2.0->getdist) (5.12.0)\n",
            "Requirement already satisfied: pillow>=6.2.0 in /usr/local/lib/python3.9/dist-packages (from matplotlib!=3.5.0,>=2.2.0->getdist) (8.4.0)\n",
            "Requirement already satisfied: kiwisolver>=1.0.1 in /usr/local/lib/python3.9/dist-packages (from matplotlib!=3.5.0,>=2.2.0->getdist) (1.4.4)\n",
            "Requirement already satisfied: cycler>=0.10 in /usr/local/lib/python3.9/dist-packages (from matplotlib!=3.5.0,>=2.2.0->getdist) (0.11.0)\n",
            "Requirement already satisfied: zipp>=3.1.0 in /usr/local/lib/python3.9/dist-packages (from importlib-resources>=3.2.0->matplotlib!=3.5.0,>=2.2.0->getdist) (3.15.0)\n",
            "Requirement already satisfied: six>=1.5 in /usr/local/lib/python3.9/dist-packages (from python-dateutil>=2.7->matplotlib!=3.5.0,>=2.2.0->getdist) (1.16.0)\n"
          ]
        }
      ],
      "source": [
        "# Install required packages (if not available on server)\n",
        "!pip install getdist\n",
        "\n",
        "# Load required packages\n",
        "import numpy as np\n",
        "import matplotlib.pyplot as plt\n",
        "import scipy.integrate as integrate\n",
        "# import pylab\n",
        "import getdist, IPython\n",
        "from numpy import random\n",
        "# from IPython.display import Image\n",
        "from getdist import plots, MCSamples, loadMCSamples"
      ]
    },
    {
      "cell_type": "markdown",
      "metadata": {
        "id": "ayxOF90lVqKY"
      },
      "source": [
        "\n",
        "<font color='tomato'>\n",
        "(NB: The equations you'll directly need to build your code are those $\\boxed{\\text{with a box around}}$)\n",
        "</font>\n",
        "\n",
        "## <font color='deepskyblue'>The $\\Lambda$CDM Model</font>\n",
        "\n",
        "The Lambda-Cold-Dark-Matter ($\\Lambda$CDM) Model is our concordance cosmological model. It postulates a Universe that behaves according to **General Relativity**, filled with **baryons** (protons, neutrons - the stuff we and stars are made of!), **Cold Dark Matter (CDM)** and a **Cosmological Constant** $\\Lambda$.\n",
        "\n",
        "The expansion of the Universe is best described in terms of the **scale factor** $a$ (the \"radius\" of the Universe, conventionally set to 1 today) and the **Hubble rate** $H$\n",
        "\n",
        "$$\n",
        "H \\equiv \\frac{\\dot a}{a}\n",
        "$$\n",
        "\n",
        "The Einstein Equations in a **homogeneous, isotropic** Universe have an especially simple form and a special name, **Friedmann Equation**:\n",
        "\n",
        "$$\n",
        "H^2 = \\frac{8\\pi G}{3}\\rho + \\frac{k}{a^2}\n",
        "$$\n",
        "\n",
        "where $\\rho$ is the total energy density of the Universe (at a certain time or size), and $k$ is a universal constant related to the [spatial curvature and shape of the Universe](https://en.wikipedia.org/wiki/Shape_of_the_universe#:~:text=The%20spatial%20curvature%20is%20related,indistinguishable%20spaces%20with%20different%20topologies.). In the $\\Lambda$CDM model (and at late enough times), this additionally simplifies to\n",
        "\n",
        "$$\n",
        "\\boxed{\n",
        "H^2 = H_0^2\\left(\\Omega_\\Lambda + \\Omega_m a^{-3} + \\Omega_k a^{-2}\\right)\n",
        "}\n",
        "\\qquad\n",
        "\\qquad\n",
        "\\boxed{\n",
        "\\Omega_m + \\Omega_\\Lambda + \\Omega_k = 1\n",
        "}\n",
        "\\tag{1}\n",
        "$$\n",
        "\n",
        "$H_0$ is the value of the Hubble rate *today*, and the parameters $\\Omega_m$, $\\Omega_\\Lambda$ and $\\Omega_k$ are dimensionless quantities indicating how much of the present expansion of the Universe is due to (non-relativistic) matter, cosmological constant $\\Lambda$, and spatial curvature $k$. Note that the three $\\Omega$'s are *not independent* (their sum is 1) and that we grouped together the contribution of baryons and CDM,\n",
        "\n",
        "$$\n",
        "\\Omega_m = \\Omega_{\\rm CDM} + \\Omega_{\\rm b}\n",
        "$$\n",
        "\n",
        "and that we have evidence that independent evidence that $\\Omega_b \\approx 5$\\%. Note that only $\\Omega_m \\geq 0$ makes physical sense, while in principle both $\\Omega_\\Lambda$ and $\\Omega_k$ can be negative.\n",
        "\n",
        "The present Hubble rate is conventionally parametrised in terms of the dimensionless Hubble rate $h$:\n",
        "\n",
        "$$\n",
        "\\boxed{H_0 \\equiv h\\,\\frac{100 \\,\\text{km}}{\\text{s Mpc}}}\n",
        "\\tag{2}\n",
        "$$\n",
        "\n",
        "where Mpc = Megaparsec and [parsec](https://en.wikipedia.org/wiki/Parsec) equals to about $3.26$ light years or $3.086 \\cdot 10^{16}$ m. \n",
        "\n",
        "In essence, these equations give us the relation between *what exists in the Universe* and *how the Universe expanded*. Measure one, I can tell you the other. This is precisely what we aim to do!\n",
        "\n",
        "Time to define the function $H(z)$. Don't forget to include the useful parameters as arguments of the function, and to define `parsec`."
      ]
    },
    {
      "cell_type": "code",
      "execution_count": 4,
      "metadata": {
        "colab": {
          "base_uri": "https://localhost:8080/"
        },
        "id": "CFIYCrH2XccJ",
        "outputId": "e129ab0c-2c4f-45e8-d239-78ff9cc4d696"
      },
      "outputs": [
        {
          "output_type": "stream",
          "name": "stdout",
          "text": [
            "1.2324771803161305\n"
          ]
        }
      ],
      "source": [
        "parsc = 3.086E16 \n",
        "# Noting that 1+z = a^-1\n",
        "def Hubble(z, h0, omegaM, omegaL):\n",
        "    return h0 * np.sqrt(omegaL + omegaM*pow(1+z,3)+(1. - omegaM - omegaL) * pow(1+z,2)) \n",
        "\n",
        "print(Hubble(1., 0.7, 0.3, 0.7))"
      ]
    },
    {
      "cell_type": "markdown",
      "metadata": {
        "id": "NNm-m0auXccK"
      },
      "source": [
        "## <font color='deepskyblue'>Supernovae Ia</font>\n",
        "\n",
        "In order to track the expansion of the Universe, we will look at Supernovae type Ia observations. SNIa are formed when a *white dwarf* accretes matter from a companion until it reaches a critical mass of about $1.44 M_\\odot$ (solar masses), after which it explodes **at always the same luminosity** $L_{\\rm SN}$. Therefore, the observed [magnitude](https://en.wikipedia.org/wiki/Magnitude_(astronomy)) is only a function of their [**luminosity distance**](https://en.wikipedia.org/wiki/Distance_measures_(cosmology)) from Earth, defined as the ratio of the intrinsic luminosity $L_{\\rm SNIa}$ and the measured *surface brightness* $\\Phi$ (energy per unit time per unit area)\n",
        "\n",
        "$$ d_L\\equiv \\frac{L_{\\rm SN}}{4\\pi \\Phi} $$\n",
        "\n",
        "While photons (light rays) travel from the distant SNIa to Earth, the Universe expands and the photons get redshifted, and this redshift is directly related to the size of the Universe when the photon was emitted compared to today:\n",
        "\n",
        "$$ \\frac{\\lambda_{\\rm obs}}{\\lambda_{\\rm em}} \\equiv 1 + z_{\\rm em} = \\frac{1}{a_{\\rm em}}$$\n",
        "\n",
        "We can express the luminosity distance in terms of the Hubble rate:\n",
        "\n",
        "$$\n",
        "\\boxed{\n",
        "d_L(z) = \\frac{c}{H_0}(1+z) \\times \n",
        "\\begin{cases}\n",
        "    \\cfrac{1}{\\sqrt{\\Omega_k}} \\,\\sinh\\left(\\sqrt{\\Omega_k}\\,D(z)\\right) & \\Omega_k > 0\n",
        "    \\\\[.5em]\n",
        "    D(z) & \\Omega_k = 0\n",
        "    \\\\[.5em]\n",
        "    \\cfrac{1}{\\sqrt{-\\Omega_k}} \\,\\sin\\left(\\sqrt{-\\Omega_k}\\,D(z)\\right) & \\Omega_k < 0\n",
        "\\end{cases}\n",
        "\\qquad\\qquad\n",
        "D(z) \\equiv H_0\\int_0^z \\frac{{\\rm d}Z}{H(Z)}\n",
        "}\n",
        "\\tag{3}\n",
        "$$\n",
        "\n",
        "where $c$ is the speed of light: $c \\simeq 2.998 \\cdot 10^{5}$ km/s.\n",
        "\n",
        "Clearly, there exists a relation between $d_L(z)$ and $H(z)$, so the luminosity distance is a useful measure of the Universe expansion history. \n",
        "In practice, however, the actual observable for [Supernovae Type Ia](https://en.wikipedia.org/wiki/Type_Ia_supernova) (or SNIa) is the [distance modulus](https://en.wikipedia.org/wiki/Distance_modulus) $\\mu$, defined as the difference between the *apparent magnitude* $m$ and the *absolute magnitude* $M$:\n",
        "\n",
        "$$\n",
        "\\boxed{\n",
        "\\mu(z) \\equiv m(z) - M \\equiv 5 \\log_{10} \\frac{d_L(z)}{10\\,\\text{pc}}\n",
        "}\n",
        "\\tag{4}\n",
        "$$\n",
        "\n",
        "We can create the function `dL(z, h, Omega_m, Omega_Lambda)`. You can also pass the function `Hubble` as an argument: `dL(z, Hubble, Omega_m, Omega_Lambda)`. Additionally, you can create $D(z)$ for your convenience.\n",
        "\n",
        "Note that you need to integrate the function $H(z)$, so write your own quick-and-easy numerical integrator, for example implementing the [trapezoidal rule](https://en.wikipedia.org/wiki/Trapezoidal_rule) or your favourite alternative, or [look up the pre-written methods](https://docs.scipy.org/doc/scipy/tutorial/integrate.html). Make sure it returns $d_L$ in parsecs and that it uses $H_0$ measured in units of 100 km/s/Mpc (which we called $h$)."
      ]
    },
    {
      "cell_type": "code",
      "execution_count": 5,
      "metadata": {
        "id": "QAwegy3UXccK",
        "outputId": "4503aa3f-d137-4872-b181-3c286b460232",
        "colab": {
          "base_uri": "https://localhost:8080/"
        }
      },
      "outputs": [
        {
          "output_type": "stream",
          "name": "stdout",
          "text": [
            "660782385430.78\n"
          ]
        }
      ],
      "source": [
        "def Inverse(z, h0, omegaM, omegaL):\n",
        "    return 1/ (h0 * np.sqrt(omegaL + omegaM*pow(1+z,3)+(1. - omegaM - omegaL) * pow(1+z,2)))\n",
        "\n",
        "from scipy.integrate import quad\n",
        "import numpy as np\n",
        "\n",
        "SPEED_OF_LIGHT = 2.998E5\n",
        "\n",
        "# Define dimensionless Hubble parameter\n",
        "def H(z, omegaM, omegaL):\n",
        "    omegaK = 1 - omegaM - omegaL\n",
        "    return np.sqrt(omegaM*(1+z)**3 + omegaL + omegaK*(1+z)**2)\n",
        "\n",
        "# Integrand for calculating comoving distance\n",
        "def integrand(z, omegaM, omegaL):\n",
        "    return 1/H(z, omegaM, omegaL)\n",
        "\n",
        "# Comoving distance\n",
        "def D(z, omegaM, omegaL):\n",
        "    integral, _ = quad(integrand, 0, z, args=(omegaM, omegaL))\n",
        "    return integral\n",
        "\n",
        "# Luminosity distance\n",
        "def dL(z, h0, omegaM, omegaL):\n",
        "    omegaK = round((1.-omegaM - omegaL),ndigits=2)\n",
        "    start = round((SPEED_OF_LIGHT/h0)*(1+z),ndigits=2)\n",
        "    comov_dist = D(z, omegaM, omegaL)\n",
        "    if(omegaK > 0):\n",
        "        return round((10**6)*(start*(1/np.sqrt(omegaK))*np.sinh(np.sqrt(omegaK)*comov_dist)),ndigits=2)\n",
        "    elif(omegaK == 0):\n",
        "        return round((10**6)*(start*comov_dist),ndigits=2)\n",
        "    elif(omegaK < 0):\n",
        "        return round((10**6)*(start*(1/np.sqrt(-omegaK))*np.sin(np.sqrt(-omegaK)*comov_dist)),ndigits=2)\n",
        "\n",
        "print(dL(1., 0.7, 0.3, 0.7))"
      ]
    },
    {
      "cell_type": "markdown",
      "metadata": {
        "id": "SLWjCnSSXccL"
      },
      "source": [
        "## <font color='deepskyblue'>The Union2.1 Compilation</font>\n",
        "\n",
        "Our source of data is from [Union2.1](http://supernova.lbl.gov/Union/). It is a collection of $580$ SNIa, each observation is comprised of redshift $z$ \n",
        "Our goal today is to use SNIa measurements to constrain the parameters ($h, \\Omega_\\Lambda, \\Omega_m$).\n",
        "\n",
        "In essence, we can calculate for each redshift the theoretical value of $\\mu$ using this equation with the expression for $d_L(z)$ and our model of choice $H(z)$ -- note that we will need to perform a numerical integral! -- and compare this value with observations. A different model would amount to changing the theoretical value of $H(z)$.\n",
        "\n",
        "Let us start by importing and plotting the data:"
      ]
    },
    {
      "cell_type": "code",
      "execution_count": 6,
      "metadata": {
        "colab": {
          "base_uri": "https://localhost:8080/"
        },
        "id": "sKb3QGqXTuJ5",
        "outputId": "8ed54e25-6f1d-4520-f99d-8d5ad5f84a49"
      },
      "outputs": [
        {
          "output_type": "stream",
          "name": "stdout",
          "text": [
            "[           nan 2.84880000e-02 3.53465834e+01 2.23905933e-01\n",
            " 1.28418942e-01]\n"
          ]
        }
      ],
      "source": [
        "dataloc = \"http://supernova.lbl.gov/Union/figures/SCPUnion2.1_mu_vs_z.txt\"\n",
        "\n",
        "# Read in data as numpy array.\n",
        "# Format is [name, redshift, magnitude, magnitude error, and another number?]\n",
        "data = np.genfromtxt(dataloc)\n",
        "\n",
        "# Print the first line as an example. (Note that genfromtxt turns the names into 'Not A Number')\n",
        "print(data[0])"
      ]
    },
    {
      "cell_type": "code",
      "execution_count": 7,
      "metadata": {
        "id": "2mvAA83gVIHz"
      },
      "outputs": [],
      "source": [
        "# Extract the redshifts (zs), distance modulus (dist_mod) and magnitude estimated errors (err_dist_mod)\n",
        "# pull out the redshifts (zs), distance modulus (dist_mod) and magnitude estimated errors (err_dist_mod)\n",
        "zs = data.T[1] # redshift\n",
        "dist_mod = data.T[2] # distance modulus\n",
        "err_dist_mod = data.T[3] # errors on distance modulus"
      ]
    },
    {
      "cell_type": "code",
      "execution_count": 8,
      "metadata": {
        "id": "x2hF3drbVPEW"
      },
      "outputs": [],
      "source": [
        "# Let's look at the data, just for fun. \n",
        "# We can look both at the raw data (distance modulus) or calculate the luminosity distance\n",
        "# Note that Numpy allows us to manipulate whole arrays at once with something like:\n",
        "#     array_2 = some_function_of(array_1)\n",
        "import scipy.integrate as integrate\n",
        "\n",
        "# luminosity distance in pc\n",
        "dpc = 10. * 10.**(dist_mod / 5.)\n",
        "\n",
        "# and in Mpc\n",
        "dMpc = dpc / 10.**6\n",
        "\n",
        "# and the error on that distance:\n",
        "dMe = 10. * (10.**((dist_mod + err_dist_mod)/5.-6.) - 10.**((dist_mod - err_dist_mod)/5.-6.))"
      ]
    },
    {
      "cell_type": "code",
      "execution_count": 19,
      "metadata": {
        "id": "o81D-kOYYwx5"
      },
      "outputs": [],
      "source": [
        "#General note: The plots were being displayed when I was originally working with the code. However, for some reason, Google Colab did not display my codes after re-running my codes for a couple of times.\n",
        "#I hope that they are displayed when you are testing for them to work.\n",
        "\n",
        "plt.subplots(1, 2, figsize=(15, 5))\n",
        "\n",
        "# Plot distance modulus versus redshift (original data)\n",
        "plt.subplot(1, 2, 1)\n",
        "plt.xlabel(\"Redshift\")\n",
        "plt.ylabel(\"Distance Modulus\")\n",
        "plt.errorbar(zs, dist_mod, yerr=err_dist_mod, fmt='o', color='black', ecolor='darkcyan', markersize=4)\n",
        "\n",
        "# Plot luminosity distance versus redshift\n",
        "plt.subplot(1, 2, 2)\n",
        "plt.xlabel(\"Redshift\")\n",
        "plt.ylabel(\"Luminosity Distance [Mpc]\")\n",
        "plt.errorbar(zs, dMpc, yerr=dMe, fmt='o', color='black', ecolor='darkcyan', markersize=4)\n",
        "plt.show()"
      ]
    },
    {
      "cell_type": "markdown",
      "metadata": {
        "id": "Hxy2SP9SXccN"
      },
      "source": [
        "## <font color='deepskyblue'>Bayes' Theorem: Likelihood, Prior, Posterior (and Evidence...)</font>\n",
        "\n",
        "The **conditional probability of A given that B is true** is denoted with $P(A|B)$ (read: *probability of A given B*). \n",
        "Did A happen? Then B has probability $P(B|A)$ of happening.\n",
        "\n",
        "[**Bayes' Theorem**](https://en.wikipedia.org/wiki/Bayes%27_theorem) is simply a reflection of the symmetry of the concept of joint probability:\n",
        "\n",
        "$$\n",
        "P(A|B)P(B) = P(B|A)P(A)\n",
        "$$\n",
        "\n",
        "In physics, our goal is often to determine how likely the values of some parameters $\\theta$ are, given how well they reproduce the data $D$. \n",
        "We write Bayes' theorem in the following equivalent form:\n",
        "\n",
        "$$\n",
        "P(\\theta | D) = \\frac{P(D|\\theta)P(\\theta)}{P(D)}\n",
        "$$\n",
        "\n",
        "The various terms conventionally take the names:\n",
        "\n",
        "$$\n",
        "\\begin{aligned}\n",
        "P(\\theta | D) & && \\text{Posterior}\n",
        "\\\\\n",
        "P(D | \\theta)& && \\text{Likelihood}\n",
        "\\\\\n",
        "P(\\theta) & && \\text{Prior}\n",
        "\\\\\n",
        "P(D) & && \\text{Evidence}\n",
        "\\end{aligned}\n",
        "$$\n",
        "\n",
        "### <font color='deepskyblue'>Prior</font>\n",
        "\n",
        "The *prior* quantifies our degree of prior belief in the model parameters. It can contain the results of previous experiments, or theoretical considerations (for instance, that certain parameters cannot be negative, etc.). \n",
        "\n",
        "We can have *strong priors* about something - the Sun still existing at night, see the comic below - or not.\n",
        "When we do *not* have compelling prior knowledge about a parameter, we generally use a *non-informative* prior probability distribution, most often related to the [uniform distribution](https://en.wikipedia.org/wiki/Continuous_uniform_distribution)\n",
        "\n",
        "$$\n",
        "\\begin{aligned}\n",
        "    \\text{Uniform} & && \\theta \\in \\text{Uniform}[\\theta_{\\rm min}, \\theta_{\\rm max}]\n",
        "    \\\\\n",
        "    \\text{Log Uniform} & && \\log\\theta \\in \\text{Uniform}[\\log\\theta_{\\rm min}, \\log\\theta_{\\rm max}]\n",
        "\\end{aligned}\n",
        "$$\n",
        "\n",
        "You may sometimes hear that \"the prior doesn't matter\". While this is not strictly true, it is however true that in many instances the *likelihood* depends more dramatically on the parameters and will have a dominating contribution to the posterior. You are more than welcome to try different priors for the model parameters and see if and how your results change.\n",
        "\n",
        "### <font color='deepskyblue'>Likelihood</font>\n",
        "\n",
        "The measure of how well our model reproduces the data is the **likelihood** $\\mathcal L$. For normal (=Gaussian), uncorrelated data $\\mu_i$ with errors $\\sigma_i$ ($i = \\{1,580\\}$), the likelihood is related to the famous [**chi-squared**](https://en.wikipedia.org/wiki/Chi-square_distribution) via\n",
        "\n",
        "$$\n",
        "P(D | \\theta) \\equiv \\mathcal L = \\exp\\left(-\\frac{\\chi^2}{2}\\right)\n",
        "\\qquad\n",
        "\\qquad\n",
        "\\boxed{\n",
        "\\chi^2 \\equiv \\sum_{i=1}^{580} \\frac{\\left(\\mu_i^{(\\rm theor)} - \\mu_i^{(\\rm obs)}\\right)^2}{\\sigma_i^2}\n",
        "}\n",
        "\\tag{5}\n",
        "$$\n",
        "\n",
        "A *high likelihood* corresponds to a *low chi squared*.\n",
        "\n",
        "In principle, we could attack the problem brute-force: create a grid of values for $h$, $\\Omega_m$, $\\Omega_\\Lambda$, calculate the likelihood for each combination, and create a profile for the likelihood. \n",
        "\n",
        "In practical cases, however, this is not only sub-optimal but sometimes **impossible**. Think of complicated models with 20+ free parameters (this is not that unusual in physics, by the way). Even a very coarse grained grid of 100 values for each parameter would result in more than $10^{40}$ (!!!) different parameter combination to be tested. You can probably understand why this is undesirable.\n",
        "\n",
        "### <font color='deepskyblue'>Evidence</font>\n",
        "\n",
        "This is the tricky bit. The evidence, which is \"*the probability of observing certain data*\", is not something that is easy to evaluate or interpret. This looks like a serious limitation to finding the:\n",
        "\n",
        "\n",
        "### <font color='deepskyblue'>Posterior</font>\n",
        "\n",
        "What does the data tell us about the model parameters? The answer is the *posterior probability distribution*, often (but not necessarily) expressed as (average $\\pm$ standard deviation)\n",
        "\n",
        "$$\n",
        "\\theta_i = \\bar\\theta_i \\pm \\sigma_i\n",
        "$$\n",
        "\n",
        "In other words, the posterior tells us how likely it is for the model parameters to have certain values, *given that we observe the data* $D$.\n",
        "\n",
        "*This is the final goal of our analysis!*\n",
        "\n",
        "<br>\n",
        "\n",
        "![title](http://1.bp.blogspot.com/-tTx4HDejSww/ULcTeK9_V_I/AAAAAAAAA8g/PCYOH-eXGbk/s1600/frequentists_vs_bayesians.png)\n",
        "![title](https://i.redd.it/5r0hwixt0m931.jpg)"
      ]
    },
    {
      "cell_type": "markdown",
      "metadata": {
        "id": "lymI_LaObhcU"
      },
      "source": [
        "## <font color='deepskyblue'>Markov-Chain Monte Carlo</font>\n",
        "\n",
        "Markov-Chain Monte Carlo techniques are a class of methods to sample a probability distribution $P(x)$ - in our case $P(\\theta | D)$ - provided that we can calculate a density $\\mathcal F(x)$ **that is proportional to it** - in our case $P(\\theta)P(D|\\theta)$ = likelihood $\\times$ prior. Among these, a very popular one is the [**Metropolis-Hastings**](https://en.wikipedia.org/wiki/Metropolis%E2%80%93Hastings_algorithm) algorithm, which is what we will use.\n",
        "\n",
        "Schematically, the algorithm works as follows:\n",
        "* Start with an $n$-tuple of parameters $\\theta_{\\rm old} = \\{\\theta_1, \\theta_2, \\dots\\}_{\\rm old}$ (in our case $\\theta = \\{h,\\Omega_m,\\Omega_\\Lambda\\}$) and calculate the $\\mathcal F_{\\rm old}$\n",
        "* Propose a new set of parameters $\\theta_{\\rm prop}$, calculate the new corresponding $\\mathcal F_{\\rm prop}$. How you propose the new parameters is not essential as long as the probability of going from one set of parameters to the next is the same as the inverse: $P(\\theta_a \\to \\theta_b) = P(\\theta_b \\to \\theta_a)$. For this, we normally take Gaussian displacements with some (relatively small) standard deviation.\n",
        "* Compare the new and old likelihoods-priors:\n",
        "    * If $\\mathcal F_{\\rm prop} > \\mathcal F_{\\rm old}$, accept the step: $\\theta_{\\rm new} = \\theta_{\\rm prop}$\n",
        "    * Otherwise, accept with probability $P_{\\rm accept} = \\mathcal F_{\\rm prop}/\\mathcal F_{\\rm old}$\n",
        "* If accepted, $\\theta_{\\rm new} = \\theta_{\\rm prop}$ and record the step; otherwise, $\\theta_{\\rm new} = \\theta_{\\rm old}$ (no re-recording)\n",
        "* Update $\\theta_{\\rm old} = \\theta_{\\rm new}$\n",
        "* Repeat\n",
        "\n",
        "The MC chain keeps going until the desired number of steps or, ideally, when a suitable convergence test, like for example the [Gelman-Rubin test](https://bookdown.org/rdpeng/advstatcomp/monitoring-convergence.html), is satisfied. \n",
        "Today we will just set a limit to the total number of steps, but please feel free to implement and test your favourite convergence test!\n",
        "\n",
        "Looking at equation (5), you can convince yourself that\n",
        "$$\n",
        "\\frac{\\mathcal L_a}{\\mathcal L_b} = \\exp\\left(\\frac{\\chi_b^2 - \\chi_a^2}{2}\\right)\n",
        "$$\n",
        "\n",
        "(This is useful because $\\chi^2$ can be large, so we want to avoid the likelihoods evaluating to `0.` -- computers don't like dividing by zero, unfortunately)\n",
        "\n",
        " \n",
        "* <font color=\"deepskyblue\"> Start with an $n$-tuple of parameters $\\theta_{\\rm old} = \\{\\theta_1, \\theta_2, \\dots\\}_{\\rm old}$ (in our case $\\theta = \\{h,\\Omega_m,\\Omega_\\Lambda\\}$) and the corresponding chi squared $\\chi_{\\rm old}^2$ (to be clear, for us this implies calculating a series of 580 integrals and comparing each with the observed values) </font>\n",
        "* <font color=\"deepskyblue\"> Propose new parameters $\\theta_{\\rm prop}$ and calculate the corresponding chi squared $\\chi_{\\rm prop}^2$</font>\n",
        "* <font color=\"deepskyblue\"> Draw a random number $r \\in [0,1]$</font>\n",
        "* <font color=\"deepskyblue\"> Accept the step if \n",
        "$$\n",
        "r < \\exp\\left(\\frac{\\chi_{\\rm old}^2 - \\chi_{\\rm prop}^2}{2}\\right) \\frac{P(\\theta)_{\\rm prop}}{P(\\theta)_{\\rm old}}\n",
        "$$</font>\n",
        "    * <font color=\"deepskyblue\"> If accepted, update $\\theta_{\\rm old} = \\theta_{\\rm prop}$, and record; otherwise, $\\theta_{\\rm new} = \\theta_{\\rm old}$ (no re-recording)</font>\n",
        "    * <font color=\"deepskyblue\">If you want, you can keep a record of the best fit (lowest $\\chi^2$), but this is not the specific purpose of MCMC! We are exploring the parameter space and sampling a _posterior distribution_, not just finding the best fit</font>\n",
        "* <font color=\"deepskyblue\"> Repeat</font>"
      ]
    },
    {
      "cell_type": "code",
      "execution_count": 21,
      "metadata": {
        "id": "xvF9UhsMXccR",
        "scrolled": true,
        "outputId": "42a31229-e090-48cc-9da0-9c0b64774a1a",
        "colab": {
          "base_uri": "https://localhost:8080/"
        }
      },
      "outputs": [
        {
          "output_type": "stream",
          "name": "stdout",
          "text": [
            "Minimal Chi of 562.23 are: (70.05, 0.28, 0.73)\n"
          ]
        }
      ],
      "source": [
        "import math\n",
        "\n",
        "# Calculation using the distance modulus\n",
        "def get_distance(z, h0, omegaM, omegaL):\n",
        "  return 5*np.log10( (dL(z, h0, omegaM, omegaL) )/10)\n",
        " \n",
        "# Defining function that obtains Chi\n",
        "def get_chi(h0, omegaM, omegaL):\n",
        "  return round(sum( [(get_distance(zs[i], h0, omegaM, omegaL)-dist_mod[i])**2 / (err_dist_mod[i])**2 for i in range(580) ]),ndigits=2)\n",
        " \n",
        "def get_prob_norm(value, mean, sd):\n",
        "  return round(( (1/math.sqrt(2*math.pi*sd**2)) * math.exp( (- (value-mean)**2 / 2*sd**2) )), ndigits=3)\n",
        " \n",
        "# Calculates the prior\n",
        "def get_probability(var1, var2, var3):\n",
        "  return round(get_prob_norm(var1, θ_old[0], 0.01) * get_prob_norm(var2, θ_old[1], 0.01) * get_prob_norm(var3, θ_old[2], 0.01),ndigits=3)\n",
        " \n",
        "# Codes test for the desired probabilities\n",
        "def get_criteria(chi_old, chi_prob, old_probability, prob_probability):\n",
        "  return ( math.exp((chi_old - chi_prob)/2) * (prob_probability/old_probability) )\n",
        "\n",
        "from random import gauss, choices, uniform\n",
        "\n",
        "# Defining the old parameters.\n",
        "θ_old = (70, 0.7, 0.3)\n",
        "\n",
        "chi_min = get_chi(*θ_old) \n",
        "θ_best = ()\n",
        "\n",
        "# Array is created to sort the different Chi values.\n",
        "chi_list = []\n",
        "\n",
        "limit = 500\n",
        "iterations = 0\n",
        "\n",
        "# Saves the parameters to a .txt file. \n",
        "file = open(\"Data.txt\",\"w\")\n",
        "\n",
        "while (iterations < limit):\n",
        "\n",
        "  \n",
        "  chi_old = get_chi(*θ_old) \n",
        "  θ_old_proability = get_probability(θ_old[0], θ_old[1], θ_old[2])\n",
        "\n",
        "  \n",
        "  # Gaussian is used for the obtained parameters.\n",
        "  h0_prop, omega_m_prop, omega_L_prop = round(gauss(θ_old[0], 0.1),ndigits=2), round(gauss(θ_old[1], 0.01),ndigits=2), round(gauss(θ_old[2], 0.01),ndigits=2)\n",
        " \n",
        "  # New chi and prior are calculated.\n",
        "  θ_prob = (h0_prop, omega_m_prop, omega_L_prop)\n",
        "  chi_prop = get_chi(*θ_prob)\n",
        "  θ_prob_proability = get_probability(h0_prop, omega_m_prop, omega_L_prop)\n",
        " \n",
        "  # Accept or reject.\n",
        "  if uniform(0,1) < get_criteria(chi_old, chi_prop, θ_old_proability, θ_prob_proability):\n",
        "    iterations += 1\n",
        "\n",
        "    θ_old = θ_prob\n",
        "    chi_list.append(chi_prop)\n",
        "\n",
        "  \n",
        "    L = [str(θ_old[2]) +\" \"+ str(θ_old[1]) +\" \"+ str(1 - θ_old[1] - θ_old[2]) +\" \"+ str(θ_old[0]) +\" \"+ str(chi_prop) + \"\\n\"]\n",
        "    file.writelines(L)\n",
        "\n",
        "    #Saves the optimal parameters.\n",
        "    if chi_prop < chi_min:\n",
        "      θ_best = θ_prob\n",
        "      chi_min = chi_prop\n",
        "\n",
        "file.close()\n",
        "\n",
        "print(\"Minimal Chi of {} are: {}\".format(chi_min, θ_best))"
      ]
    },
    {
      "cell_type": "markdown",
      "metadata": {
        "id": "qw52S4G0XccR"
      },
      "source": [
        "After completion of the programme, your MC chain will (*hopefully*) look something like this:\n",
        "\n",
        "`#Omega_m  Omega_L  h`\n",
        "\n",
        "`0.297     0.703    0.698`\n",
        "\n",
        "`0.285     0.715    0.701`\n",
        "\n",
        "`0.288     0.712    0.699`\n",
        "\n",
        "`...`"
      ]
    },
    {
      "cell_type": "markdown",
      "metadata": {
        "id": "dB-wD3cLXccR"
      },
      "source": [
        "## <font color='deepskyblue'>Plotting: GetDist</font>\n",
        "\n",
        "We will do the plots with [`GetDist`](https://getdist.readthedocs.io/en/latest/plot_gallery.html).\n",
        "\n",
        "The plot gallery contains a lot of useful examples, you should be able to read them fairly easily and see which applies to your situation. Look for both (triangle) plots and for parameter estimation.\n",
        "\n",
        "Note that many `GetDist` functions require arguments of type `MCSamples`; make sure you convert your lists accordingly.\n",
        "\n",
        "<p>\n",
        "<font color='deepskyblue'>\n",
        "Look at your results. Do you obtain $\\Omega_\\Lambda \\neq 0$ to a high degree of significance? \n",
        "\n",
        "If yes, then my dear friend, you have **DISCOVERED THE ACCELERATED EXPANSION OF THE UNIVERSE AND WON THE NOBEL PRIZE IN PHYSICS 2011!**\n",
        "</font>\n",
        "</p>"
      ]
    },
    {
      "cell_type": "code",
      "execution_count": 22,
      "metadata": {
        "colab": {
          "base_uri": "https://localhost:8080/"
        },
        "id": "4JIvURq9XccR",
        "outputId": "eb677d60-b781-4618-fba7-bb5da3201fff"
      },
      "outputs": [
        {
          "output_type": "stream",
          "name": "stdout",
          "text": [
            "Removed no burn in\n"
          ]
        }
      ],
      "source": [
        "import getdist, IPython\n",
        "from getdist import plots, MCSamples, loadMCSamples\n",
        "import numpy as np\n",
        "import matplotlib.pyplot as plt\n",
        "from random import random\n",
        "from random import gauss\n",
        "\n",
        "plt.rc('text', usetex=False)\n",
        "\n",
        "my_dim = 4\n",
        "\n",
        "my_labels = ['\\Omega_M', '\\Omega_L', '\\Omega_K', 'h_0']\n",
        "my_names = ['Omega_M', 'Omega_L', 'Omega_K', \"h_0\"]\n",
        "my_ranges = {\"\\Omega_K\":(-0.5,0.5)}\n",
        "\n",
        "Parameters_file = r\"/content/Data.txt\"\n",
        "Parameters_np = np.loadtxt(Parameters_file)\n",
        "\n",
        "my_samples = np.array([])\n",
        "\n",
        "for i in range(my_dim):\n",
        "  par = []\n",
        "  par = Parameters_np[:,i]\n",
        "  my_samples = np.append(my_samples, par)\n",
        "\n",
        "my_samples = np.transpose(np.reshape(my_samples,(my_dim,int(my_samples.size/my_dim))))\n",
        "samples1 = MCSamples(samples = my_samples, labels = my_labels, names = my_names, ranges = my_ranges)\n",
        "\n",
        "\n",
        "j = plots.get_subplot_plotter(subplot_size=3)\n",
        "j.settings.axes_labelsize = 22\n",
        "j.settings.axes_fontsize = 16\n",
        "j.triangle_plot(samples1, filled = True)\n",
        "\n",
        "plt.show()"
      ]
    },
    {
      "cell_type": "code",
      "source": [
        "import numpy as np\n",
        "import scipy.integrate as integrate\n",
        "import matplotlib.pyplot as plt\n",
        "\n",
        "speed_of_light = 299792.458 # in km/s\n",
        "\n",
        "# omegaK is not included in the following theoretical curve.\n",
        "def theor_luminosity_distance(z, h, omegaM, omegaL):\n",
        "    return 10.**6 * speed_of_light / h * (1.+z) * \\\n",
        "    integrate.quad(lambda x: 1. / np.sqrt(omegaM * (1.+x)**3 + omegaL), 0., z)[0]\n",
        "\n",
        "def theor_distance_modulus(z, h, omegaM, omegaL):\n",
        "    return 5. * (-1. + np.log10(theor_luminosity_distance(z, h, omegaM, omegaL)))\n",
        "                 \n",
        "zsort = sorted(zs)\n",
        "d_best_fit, d_min, d_max = [], [], []\n",
        "\n",
        "for z in zsort:\n",
        "    d_best_fit.append(theor_distance_modulus(z, 70., 0.3, 0.7))\n",
        "    d_min.append(theor_distance_modulus(z, 75., 0.5, 0.5))\n",
        "    d_max.append(theor_distance_modulus(z, 65., 0.1, 0.9))\n",
        "    \n",
        "plt.subplots(figsize=(10, 7.5))\n",
        "plt.xlabel(\"Redshift\")\n",
        "plt.ylabel(\"Distance Modulus\")\n",
        "\n",
        "plt.errorbar(zs, dist_mod, yerr=err_dist_mod,\\\n",
        "             fmt='o', color='black', ecolor='darkcyan', markersize=4)\n",
        "plt.plot(zsort, d_best_fit, color='firebrick',linewidth=2.)\n",
        "plt.fill_between(zsort, d_min, d_max, color='grey', alpha=.2)\n",
        "plt.show()\n"
      ],
      "metadata": {
        "id": "6UbuoOHfCu0h"
      },
      "execution_count": 17,
      "outputs": []
    },
    {
      "cell_type": "code",
      "source": [
        "d_best_fit, d_min, d_max = [], [], []\n",
        "zs_sorted = sorted(zs)\n",
        "\n",
        "for i in range(580):\n",
        "    d_best_fit.append(get_distance(zs_sorted[i], *θ_best))\n",
        "    d_min.append(get_distance(zs_sorted[i], θ_best[0]+5, θ_best[1]+0.2, θ_best[2]+0.2))\n",
        "    d_max.append(get_distance(zs_sorted[i], θ_best[0]-5, θ_best[1]-0.2, θ_best[2]+0.2))\n",
        "    \n",
        "plt.subplots(figsize=(10, 7.5))\n",
        "plt.xlabel(\"Redshift\")\n",
        "plt.ylabel(\"Distance Modulus\")\n",
        "\n",
        "plt.errorbar(zs, dist_mod, yerr=err_dist_mod,\\\n",
        "             fmt='o', color='black', ecolor='darkcyan', markersize=4)\n",
        "plt.plot(zs_sorted, d_best_fit, color='firebrick',linewidth=2.)\n",
        "plt.fill_between(zs_sorted, d_min, d_max, color='grey', alpha=.2)\n",
        "plt.show()"
      ],
      "metadata": {
        "id": "Iegs17GaDnRN"
      },
      "execution_count": 18,
      "outputs": []
    },
    {
      "cell_type": "markdown",
      "metadata": {
        "id": "OAer6k-yngup"
      },
      "source": [
        "## <font color='deepskyblue'>Further Improvements</font>\n",
        "\n",
        "There are many ways in which you can improve your code and/or your data visualisation. Some ideas, in random order:\n",
        "\n",
        "* Modify your priors and compare your results. For instance:\n",
        "  * Change to log-flat priors for $h$ and/or $\\Omega_m$, namely displace them in log-space instead of linear space:\n",
        "  $$\n",
        "  \\log(h_{\\rm new}) = \\log(h_{\\rm old}) + \\delta\n",
        "  $$\n",
        "  where $\\delta$ a random variable of mean 0\n",
        "  * Use priors from other cosmological probes, for example the [Planck 2018 results](https://arxiv.org/abs/1807.06209):\n",
        "  $$\n",
        "  \\Omega_m = 0.315 \\pm 0.007\\,,~\\dots\n",
        "  $$\n",
        "* Implement a Gelman-Rubin (or alternative) convergence test\n",
        "* Change colours and other properties of your triangle plot\n",
        "* Re-plot the data with your theoretical fits: you can try both your best fit, and some $1\\sigma$ \"error bars\"\n",
        "* Split your data in redshift bins and repeat the analysis for each bin individually.\n",
        "<br> _(What do you notice? Which redshift bins give us the most accurate detection of the cosmological parameters?)_"
      ]
    }
  ],
  "metadata": {
    "colab": {
      "collapsed_sections": [
        "Hxy2SP9SXccN"
      ],
      "provenance": []
    },
    "kernelspec": {
      "display_name": "Python 3 (ipykernel)",
      "language": "python",
      "name": "python3"
    },
    "language_info": {
      "codemirror_mode": {
        "name": "ipython",
        "version": 3
      },
      "file_extension": ".py",
      "mimetype": "text/x-python",
      "name": "python",
      "nbconvert_exporter": "python",
      "pygments_lexer": "ipython3",
      "version": "3.10.0"
    }
  },
  "nbformat": 4,
  "nbformat_minor": 0
}
